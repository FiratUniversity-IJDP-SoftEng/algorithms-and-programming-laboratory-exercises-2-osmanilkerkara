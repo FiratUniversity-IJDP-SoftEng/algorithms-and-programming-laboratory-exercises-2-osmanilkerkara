{
  "cells": [
    {
      "cell_type": "markdown",
      "metadata": {
        "id": "ytbzyl3rnDRY"
      },
      "source": [
        "# Python Turtle Exercises\n",
        "\n",
        "This assignment aims to improve your algorithmic skills by drawing various geometric patterns using the Python Turtle library.  \n",
        "Each exercise includes a description and a code cell for your solutions.\n",
        "\n",
        "# Exercise 1: Drawing a Star\n",
        "## Description:\n",
        "Design an algorithm to draw a five-pointed star. Calculate the angle and line length correctly."
      ]
    },
    {
      "cell_type": "code",
      "execution_count": null,
      "metadata": {
        "id": "3uUSg4xJnUAw"
      },
      "outputs": [],
      "source": [
        "# Created by Osman Ilker Kara 210543014 at 22.03.2025\n",
        "import turtle\n",
        "\n",
        "def draw_star():\n",
        "    t = turtle.Turtle()\n",
        "    t.speed(3)\n",
        "\n",
        "    points = 5 \n",
        "    angle = 144\n",
        "\n",
        "    line_length = 100\n",
        "\n",
        "    for _ in range(points):\n",
        "        t.forward(line_length)\n",
        "        t.right(angle) \n",
        "\n",
        "    turtle.done()\n",
        "\n",
        "draw_star()"
      ]
    },
    {
      "cell_type": "markdown",
      "metadata": {
        "id": "tGUI2TbgnZYu"
      },
      "source": [
        "# Exercise 2: Drawing a Spiral Square\n",
        "## Description:\n",
        "Design an algorithm to draw a spiral square with increasing side lengths. Consider how to change the turtle's turning angle and movement distance after each square."
      ]
    },
    {
      "cell_type": "code",
      "execution_count": null,
      "metadata": {
        "id": "UAinAy64neJ9"
      },
      "outputs": [],
      "source": [
        "# Created by Osman Ilker Kara 210543014 at 22.03.2025\n",
        "import turtle\n",
        "\n",
        "def draw_spiral_square():\n",
        "    t = turtle.Turtle()\n",
        "    t.speed(5)\n",
        "\n",
        "    side_length = 20\n",
        "    increment = 10\n",
        "\n",
        "    num_spirals = 15 \n",
        "\n",
        "    for i in range(num_spirals):\n",
        "        for i in range(4):\n",
        "            t.forward(side_length)\n",
        "            t.right(90)\n",
        "\n",
        "        side_length += increment\n",
        "\n",
        "        t.penup()\n",
        "        t.right(45)\n",
        "        t.forward(increment * 0.7)\n",
        "        t.left(45)\n",
        "        t.pendown()\n",
        "\n",
        "draw_spiral_square()\n"
      ]
    },
    {
      "cell_type": "markdown",
      "metadata": {
        "id": "9u3aYlazngbx"
      },
      "source": [
        "# Exercise 3: Drawing Nested Polygons\n",
        "## Description:\n",
        "Design an algorithm to draw nested polygons with the same center and number of sides. Consider how to adjust the size of each polygon and position the turtle while drawing."
      ]
    },
    {
      "cell_type": "code",
      "execution_count": 1,
      "metadata": {
        "id": "GvJ5VlvJnoDz"
      },
      "outputs": [],
      "source": [
        "# Created by Osman Ilker Kara at 24.03.2025\n",
        "import turtle\n",
        "import math\n",
        "\n",
        "def draw_nested_polygons():\n",
        "    t = turtle.Turtle()\n",
        "    t.speed(0)\n",
        "    \n",
        "    num_sides = 6\n",
        "    num_polygons = 5\n",
        "    start_size = 150\n",
        "    size_decrease = 25\n",
        "    \n",
        "    def draw_polygon(sides, size):\n",
        "        angle = 360 / sides\n",
        "        \n",
        "        # Calculate how far to move to draw from the center\n",
        "        center_distance = size / (2 * math.sin(math.pi / sides))\n",
        "        \n",
        "        # Move to starting position\n",
        "        t.penup()\n",
        "        t.forward(center_distance)\n",
        "        t.left(90 + (angle / 2))  \n",
        "        t.pendown()\n",
        "        \n",
        "        # Draw the polygon\n",
        "        for _ in range(sides):\n",
        "            t.forward(size)\n",
        "            t.left(angle)\n",
        "        \n",
        "        # Return to center\n",
        "        t.penup()\n",
        "        t.right(90 + (angle / 2))\n",
        "        t.backward(center_distance)\n",
        "        t.pendown()\n",
        "    \n",
        "    for i in range(num_polygons):\n",
        "        size = start_size - (i * size_decrease)\n",
        "        draw_polygon(num_sides, size)\n",
        "    \n",
        "    t.hideturtle()\n",
        "    turtle.done()\n",
        "\n",
        "draw_nested_polygons()"
      ]
    },
    {
      "cell_type": "markdown",
      "metadata": {
        "id": "w4S_F7XJnpYI"
      },
      "source": [
        "# Exercise 4: Drawing a Colorful Spiral\n",
        "## Description:\n",
        "Design an algorithm to draw a spiral using different colors. Consider how to change the color at each step and create the spiral shape."
      ]
    },
    {
      "cell_type": "code",
      "execution_count": null,
      "metadata": {
        "id": "e4KCcVxpnuUn"
      },
      "outputs": [],
      "source": [
        "# Created by Osman Ilker Kara at 01.04.2025\n",
        "import turtle\n",
        "import random\n",
        "\n",
        "def draw_colorful_spiral():\n",
        "    t = turtle.Turtle()\n",
        "    t.speed(0)\n",
        "    turtle.colormode(255)\n",
        "    \n",
        "    # Parameters for the spiral\n",
        "    num_iterations = 100\n",
        "    start_length = 5\n",
        "    length_increase = 2\n",
        "    angle = 121\n",
        "    \n",
        "    colors = [\"red\", \"orange\", \"yellow\", \"green\", \"blue\", \"purple\", \"pink\"]\n",
        "    \n",
        "    # Draw each segment of the spiral\n",
        "    for i in range(num_iterations):\n",
        "        t.pencolor(colors[i % len(colors)])\n",
        "        t.pensize(1 + i//30)\n",
        "        t.forward(start_length + (i * length_increase))\n",
        "        t.right(angle)\n",
        "    \n",
        "    t.hideturtle()\n",
        "    turtle.done()\n",
        "\n",
        "draw_colorful_spiral()\n"
      ]
    },
    {
      "cell_type": "markdown",
      "metadata": {
        "id": "U4JZEptVn74m"
      },
      "source": [
        "# Exercise 5: Drawing a Random Pattern\n",
        "## Description:\n",
        "Design an algorithm to create an interesting pattern by randomly changing the turtle's movements and properties (color, thickness, etc.). Think about how to use randomness and vary different parameters."
      ]
    },
    {
      "cell_type": "code",
      "execution_count": null,
      "metadata": {
        "id": "4nk33NI8m9s1"
      },
      "outputs": [],
      "source": [
        "# Created by Osman Ilker Kara at 01.04.2025\n"
      ]
    }
  ],
  "metadata": {
    "accelerator": "GPU",
    "colab": {
      "gpuType": "T4",
      "provenance": []
    },
    "kernelspec": {
      "display_name": "Python 3",
      "language": "python",
      "name": "python3"
    },
    "language_info": {
      "codemirror_mode": {
        "name": "ipython",
        "version": 3
      },
      "file_extension": ".py",
      "mimetype": "text/x-python",
      "name": "python",
      "nbconvert_exporter": "python",
      "pygments_lexer": "ipython3",
      "version": "3.12.1"
    }
  },
  "nbformat": 4,
  "nbformat_minor": 0
}
